{
 "cells": [
  {
   "cell_type": "code",
   "execution_count": 1,
   "metadata": {
    "collapsed": false
   },
   "outputs": [],
   "source": [
    "import requests\n",
    "\n",
    "import pandas as pd\n",
    "import numpy as np\n",
    "import matplotlib.pyplot as plt\n",
    "\n",
    "%matplotlib inline"
   ]
  },
  {
   "cell_type": "code",
   "execution_count": 2,
   "metadata": {
    "collapsed": true
   },
   "outputs": [],
   "source": [
    "from scipy.cluster.vq import whiten, kmeans2"
   ]
  },
  {
   "cell_type": "code",
   "execution_count": 3,
   "metadata": {
    "collapsed": true
   },
   "outputs": [],
   "source": [
    "def call_api(uri, result_key):\n",
    "    json = {}\n",
    "    try:\n",
    "        json = requests.get(uri, headers = { 'X-Auth-Token': '4aa8c631d3224761bdea6d1952986285' }).json()\n",
    "        return json[result_key]\n",
    "    except:\n",
    "        print(json)\n",
    "        return None"
   ]
  },
  {
   "cell_type": "code",
   "execution_count": 4,
   "metadata": {
    "collapsed": false
   },
   "outputs": [
    {
     "data": {
      "text/plain": [
       "[{'_links': {'fixtures': {'href': 'http://api.football-data.org/v1/teams/496/fixtures'},\n",
       "   'players': {'href': 'http://api.football-data.org/v1/teams/496/players'},\n",
       "   'self': {'href': 'http://api.football-data.org/v1/teams/496'}},\n",
       "  'code': None,\n",
       "  'crestUrl': 'http://upload.wikimedia.org/wikipedia/de/6/63/Rio_Ave_FC.svg',\n",
       "  'name': 'FC Rio Ave',\n",
       "  'shortName': 'Rio Ave',\n",
       "  'squadMarketValue': '21,125,000 €'},\n",
       " {'_links': {'fixtures': {'href': 'http://api.football-data.org/v1/teams/503/fixtures'},\n",
       "   'players': {'href': 'http://api.football-data.org/v1/teams/503/players'},\n",
       "   'self': {'href': 'http://api.football-data.org/v1/teams/503'}},\n",
       "  'code': 'FCP',\n",
       "  'crestUrl': 'http://upload.wikimedia.org/wikipedia/de/e/ed/FC_Porto_1922-2005.svg',\n",
       "  'name': 'FC Porto',\n",
       "  'shortName': 'Porto',\n",
       "  'squadMarketValue': '204,900,000 €'},\n",
       " {'_links': {'fixtures': {'href': 'http://api.football-data.org/v1/teams/583/fixtures'},\n",
       "   'players': {'href': 'http://api.football-data.org/v1/teams/583/players'},\n",
       "   'self': {'href': 'http://api.football-data.org/v1/teams/583'}},\n",
       "  'code': None,\n",
       "  'crestUrl': 'https://upload.wikimedia.org/wikipedia/pt/8/8c/Logo_Moreirense.svg',\n",
       "  'name': 'Moreirense FC',\n",
       "  'shortName': 'Moreirense',\n",
       "  'squadMarketValue': '9,950,000 €'},\n",
       " {'_links': {'fixtures': {'href': 'http://api.football-data.org/v1/teams/507/fixtures'},\n",
       "   'players': {'href': 'http://api.football-data.org/v1/teams/507/players'},\n",
       "   'self': {'href': 'http://api.football-data.org/v1/teams/507'}},\n",
       "  'code': None,\n",
       "  'crestUrl': 'http://upload.wikimedia.org/wikipedia/de/f/f2/FC_Pacos_de_Ferreira.svg',\n",
       "  'name': 'FC Paços de Ferreira',\n",
       "  'shortName': 'Ferreira',\n",
       "  'squadMarketValue': '17,725,000 €'},\n",
       " {'_links': {'fixtures': {'href': 'http://api.football-data.org/v1/teams/498/fixtures'},\n",
       "   'players': {'href': 'http://api.football-data.org/v1/teams/498/players'},\n",
       "   'self': {'href': 'http://api.football-data.org/v1/teams/498'}},\n",
       "  'code': 'SCP',\n",
       "  'crestUrl': 'https://upload.wikimedia.org/wikipedia/en/3/3e/Sporting_Clube_de_Portugal.png',\n",
       "  'name': 'Sporting CP',\n",
       "  'shortName': 'Sporting',\n",
       "  'squadMarketValue': '220,250,000 €'},\n",
       " {'_links': {'fixtures': {'href': 'http://api.football-data.org/v1/teams/504/fixtures'},\n",
       "   'players': {'href': 'http://api.football-data.org/v1/teams/504/players'},\n",
       "   'self': {'href': 'http://api.football-data.org/v1/teams/504'}},\n",
       "  'code': None,\n",
       "  'crestUrl': 'http://upload.wikimedia.org/wikipedia/de/3/3b/Marítimo_Funchal.svg',\n",
       "  'name': 'Maritimo Funchal',\n",
       "  'shortName': 'M Funchal',\n",
       "  'squadMarketValue': '18,275,000 €'},\n",
       " {'_links': {'fixtures': {'href': 'http://api.football-data.org/v1/teams/1049/fixtures'},\n",
       "   'players': {'href': 'http://api.football-data.org/v1/teams/1049/players'},\n",
       "   'self': {'href': 'http://api.football-data.org/v1/teams/1049'}},\n",
       "  'code': None,\n",
       "  'crestUrl': 'https://upload.wikimedia.org/wikipedia/commons/f/fc/Emblema_CD_Tondela.png',\n",
       "  'name': 'CD Tondela',\n",
       "  'shortName': 'Tondela',\n",
       "  'squadMarketValue': '11,575,000 €'},\n",
       " {'_links': {'fixtures': {'href': 'http://api.football-data.org/v1/teams/495/fixtures'},\n",
       "   'players': {'href': 'http://api.football-data.org/v1/teams/495/players'},\n",
       "   'self': {'href': 'http://api.football-data.org/v1/teams/495'}},\n",
       "  'code': 'SLB',\n",
       "  'crestUrl': 'http://upload.wikimedia.org/wikipedia/de/8/89/Logo_Benfica_Lissabon.svg',\n",
       "  'name': 'SL Benfica',\n",
       "  'shortName': 'Lisbon',\n",
       "  'squadMarketValue': '180,150,000 €'},\n",
       " {'_links': {'fixtures': {'href': 'http://api.football-data.org/v1/teams/810/fixtures'},\n",
       "   'players': {'href': 'http://api.football-data.org/v1/teams/810/players'},\n",
       "   'self': {'href': 'http://api.football-data.org/v1/teams/810'}},\n",
       "  'code': None,\n",
       "  'crestUrl': 'http://upload.wikimedia.org/wikipedia/en/4/40/Boavista_F.C._logo.svg',\n",
       "  'name': 'Boavista Porto FC',\n",
       "  'shortName': 'Boavista',\n",
       "  'squadMarketValue': '14,025,000 €'},\n",
       " {'_links': {'fixtures': {'href': 'http://api.football-data.org/v1/teams/712/fixtures'},\n",
       "   'players': {'href': 'http://api.football-data.org/v1/teams/712/players'},\n",
       "   'self': {'href': 'http://api.football-data.org/v1/teams/712'}},\n",
       "  'code': None,\n",
       "  'crestUrl': 'http://upload.wikimedia.org/wikipedia/de/b/b4/FC_Arouca.png',\n",
       "  'name': 'FC Arouca',\n",
       "  'shortName': 'Arouca',\n",
       "  'squadMarketValue': '18,025,000 €'},\n",
       " {'_links': {'fixtures': {'href': 'http://api.football-data.org/v1/teams/506/fixtures'},\n",
       "   'players': {'href': 'http://api.football-data.org/v1/teams/506/players'},\n",
       "   'self': {'href': 'http://api.football-data.org/v1/teams/506'}},\n",
       "  'code': None,\n",
       "  'crestUrl': 'http://upload.wikimedia.org/wikipedia/de/b/bd/Vitória_Setúbal.svg',\n",
       "  'name': 'Vitoria Setubal',\n",
       "  'shortName': 'Setubal',\n",
       "  'squadMarketValue': '21,200,000 €'},\n",
       " {'_links': {'fixtures': {'href': 'http://api.football-data.org/v1/teams/711/fixtures'},\n",
       "   'players': {'href': 'http://api.football-data.org/v1/teams/711/players'},\n",
       "   'self': {'href': 'http://api.football-data.org/v1/teams/711'}},\n",
       "  'code': None,\n",
       "  'crestUrl': 'http://upload.wikimedia.org/wikipedia/de/d/db/Belenenses_Lissabon.svg',\n",
       "  'name': 'C.F. Os Belenenses',\n",
       "  'shortName': 'B. Lisbon',\n",
       "  'squadMarketValue': '23,650,000 €'},\n",
       " {'_links': {'fixtures': {'href': 'http://api.football-data.org/v1/teams/502/fixtures'},\n",
       "   'players': {'href': 'http://api.football-data.org/v1/teams/502/players'},\n",
       "   'self': {'href': 'http://api.football-data.org/v1/teams/502'}},\n",
       "  'code': None,\n",
       "  'crestUrl': 'http://upload.wikimedia.org/wikipedia/de/8/81/Vitoria_Guimaraes.svg',\n",
       "  'name': 'Vitoria Guimaraes',\n",
       "  'shortName': 'Guimares',\n",
       "  'squadMarketValue': '32,850,000 €'},\n",
       " {'_links': {'fixtures': {'href': 'http://api.football-data.org/v1/teams/497/fixtures'},\n",
       "   'players': {'href': 'http://api.football-data.org/v1/teams/497/players'},\n",
       "   'self': {'href': 'http://api.football-data.org/v1/teams/497'}},\n",
       "  'code': None,\n",
       "  'crestUrl': 'http://upload.wikimedia.org/wikipedia/de/f/f3/Sporting_Clube_de_Braga.svg',\n",
       "  'name': 'Sporting Braga',\n",
       "  'shortName': 'Braga',\n",
       "  'squadMarketValue': '63,800,000 €'},\n",
       " {'_links': {'fixtures': {'href': 'http://api.football-data.org/v1/teams/582/fixtures'},\n",
       "   'players': {'href': 'http://api.football-data.org/v1/teams/582/players'},\n",
       "   'self': {'href': 'http://api.football-data.org/v1/teams/582'}},\n",
       "  'code': None,\n",
       "  'crestUrl': 'http://upload.wikimedia.org/wikipedia/de/1/14/GD_Estoril_Praia.svg',\n",
       "  'name': 'GD Estoril Praia',\n",
       "  'shortName': 'Estoril',\n",
       "  'squadMarketValue': '12,950,000 €'},\n",
       " {'_links': {'fixtures': {'href': 'http://api.football-data.org/v1/teams/500/fixtures'},\n",
       "   'players': {'href': 'http://api.football-data.org/v1/teams/500/players'},\n",
       "   'self': {'href': 'http://api.football-data.org/v1/teams/500'}},\n",
       "  'code': None,\n",
       "  'crestUrl': None,\n",
       "  'name': 'Feirense',\n",
       "  'shortName': None,\n",
       "  'squadMarketValue': None},\n",
       " {'_links': {'fixtures': {'href': 'http://api.football-data.org/v1/teams/501/fixtures'},\n",
       "   'players': {'href': 'http://api.football-data.org/v1/teams/501/players'},\n",
       "   'self': {'href': 'http://api.football-data.org/v1/teams/501'}},\n",
       "  'code': None,\n",
       "  'crestUrl': 'http://upload.wikimedia.org/wikipedia/de/e/ee/Nacional_Funchal.svg',\n",
       "  'name': 'Nacional Funchal',\n",
       "  'shortName': 'Funchal',\n",
       "  'squadMarketValue': '21,925,000 €'},\n",
       " {'_links': {'fixtures': {'href': 'http://api.football-data.org/v1/teams/1103/fixtures'},\n",
       "   'players': {'href': 'http://api.football-data.org/v1/teams/1103/players'},\n",
       "   'self': {'href': 'http://api.football-data.org/v1/teams/1103'}},\n",
       "  'code': None,\n",
       "  'crestUrl': 'https://upload.wikimedia.org/wikipedia/en/0/05/G_D_Chaves.png',\n",
       "  'name': 'G.D. Chaves',\n",
       "  'shortName': 'Chaves',\n",
       "  'squadMarketValue': None}]"
      ]
     },
     "execution_count": 4,
     "metadata": {},
     "output_type": "execute_result"
    }
   ],
   "source": [
    "teams = call_api('http://api.football-data.org/v1/soccerseasons/439/teams', 'teams')\n",
    "teams"
   ]
  },
  {
   "cell_type": "code",
   "execution_count": 5,
   "metadata": {
    "collapsed": false
   },
   "outputs": [
    {
     "name": "stdout",
     "output_type": "stream",
     "text": [
      "Team \"FC Rio Ave\", 21125000 €, 29 losses\n",
      "Team \"FC Porto\", 204900000 €, 17 losses\n",
      "Team \"Moreirense FC\", 9950000 €, 36 losses\n",
      "Team \"FC Paços de Ferreira\", 17725000 €, 35 losses\n",
      "Team \"Sporting CP\", 220250000 €, 32 losses\n",
      "Team \"Maritimo Funchal\", 18275000 €, 17 losses\n",
      "Team \"CD Tondela\", 11575000 €, 39 losses\n",
      "Team \"SL Benfica\", 180150000 €, 23 losses\n",
      "Team \"Boavista Porto FC\", 14025000 €, 25 losses\n",
      "Team \"FC Arouca\", 18025000 €, 32 losses\n",
      "Team \"Vitoria Setubal\", 21200000 €, 23 losses\n",
      "Team \"C.F. Os Belenenses\", 23650000 €, 21 losses\n",
      "Team \"Vitoria Guimaraes\", 32850000 €, 25 losses\n",
      "Team \"Sporting Braga\", 63800000 €, 20 losses\n",
      "Team \"GD Estoril Praia\", 12950000 €, 29 losses\n",
      "Team \"Feirense\", 12950000 €, 35 losses\n",
      "Team \"Nacional Funchal\", 21925000 €, 33 losses\n",
      "Team \"G.D. Chaves\", 21925000 €, 22 losses\n"
     ]
    }
   ],
   "source": [
    "for team in teams:\n",
    "    if (team['squadMarketValue']):\n",
    "        marketValue = team['squadMarketValue'].replace(\",\", \"\").replace(\" €\", \"\")\n",
    "    fixtures = call_api(team['_links']['fixtures']['href'], 'fixtures')\n",
    "    loss = 0\n",
    "    for f in fixtures:\n",
    "        if team['name'] == f['homeTeamName']:\n",
    "            loss += f['result']['goalsAwayTeam'] if f['result']['goalsAwayTeam'] else 0\n",
    "        else:\n",
    "            loss += f['result']['goalsHomeTeam'] if f['result']['goalsHomeTeam'] else 0\n",
    "    print('Team \"{}\", {} €, {} losses'.format(team['name'], marketValue, loss))\n",
    "    team['squadMarketValue'] = marketValue\n",
    "    team['loss'] = loss"
   ]
  },
  {
   "cell_type": "code",
   "execution_count": 7,
   "metadata": {
    "collapsed": false
   },
   "outputs": [
    {
     "data": {
      "text/plain": [
       "[{'loss': 29, 'marketValue': 21125000, 'name': 'FC Rio Ave'},\n",
       " {'loss': 17, 'marketValue': 204900000, 'name': 'FC Porto'},\n",
       " {'loss': 36, 'marketValue': 9950000, 'name': 'Moreirense FC'},\n",
       " {'loss': 35, 'marketValue': 17725000, 'name': 'FC Paços de Ferreira'},\n",
       " {'loss': 32, 'marketValue': 220250000, 'name': 'Sporting CP'},\n",
       " {'loss': 17, 'marketValue': 18275000, 'name': 'Maritimo Funchal'},\n",
       " {'loss': 39, 'marketValue': 11575000, 'name': 'CD Tondela'},\n",
       " {'loss': 23, 'marketValue': 180150000, 'name': 'SL Benfica'},\n",
       " {'loss': 25, 'marketValue': 14025000, 'name': 'Boavista Porto FC'},\n",
       " {'loss': 32, 'marketValue': 18025000, 'name': 'FC Arouca'},\n",
       " {'loss': 23, 'marketValue': 21200000, 'name': 'Vitoria Setubal'},\n",
       " {'loss': 21, 'marketValue': 23650000, 'name': 'C.F. Os Belenenses'},\n",
       " {'loss': 25, 'marketValue': 32850000, 'name': 'Vitoria Guimaraes'},\n",
       " {'loss': 20, 'marketValue': 63800000, 'name': 'Sporting Braga'},\n",
       " {'loss': 29, 'marketValue': 12950000, 'name': 'GD Estoril Praia'},\n",
       " {'loss': 35, 'marketValue': 12950000, 'name': 'Feirense'},\n",
       " {'loss': 33, 'marketValue': 21925000, 'name': 'Nacional Funchal'},\n",
       " {'loss': 22, 'marketValue': 21925000, 'name': 'G.D. Chaves'}]"
      ]
     },
     "execution_count": 7,
     "metadata": {},
     "output_type": "execute_result"
    }
   ],
   "source": [
    "team_for_pd = []\n",
    "for team in teams:\n",
    "    team_for_pd.append({'name': team['name'], 'marketValue': int(team['squadMarketValue'].replace(\",\", \"\").replace(\" €\", \"\")), 'loss': team['loss']})\n",
    "team_for_pd"
   ]
  },
  {
   "cell_type": "code",
   "execution_count": 8,
   "metadata": {
    "collapsed": false
   },
   "outputs": [
    {
     "data": {
      "text/html": [
       "<div>\n",
       "<table border=\"1\" class=\"dataframe\">\n",
       "  <thead>\n",
       "    <tr style=\"text-align: right;\">\n",
       "      <th></th>\n",
       "      <th>loss</th>\n",
       "      <th>marketValue</th>\n",
       "      <th>name</th>\n",
       "    </tr>\n",
       "  </thead>\n",
       "  <tbody>\n",
       "    <tr>\n",
       "      <th>0</th>\n",
       "      <td>29</td>\n",
       "      <td>21125000</td>\n",
       "      <td>FC Rio Ave</td>\n",
       "    </tr>\n",
       "    <tr>\n",
       "      <th>1</th>\n",
       "      <td>17</td>\n",
       "      <td>204900000</td>\n",
       "      <td>FC Porto</td>\n",
       "    </tr>\n",
       "    <tr>\n",
       "      <th>2</th>\n",
       "      <td>36</td>\n",
       "      <td>9950000</td>\n",
       "      <td>Moreirense FC</td>\n",
       "    </tr>\n",
       "    <tr>\n",
       "      <th>3</th>\n",
       "      <td>35</td>\n",
       "      <td>17725000</td>\n",
       "      <td>FC Paços de Ferreira</td>\n",
       "    </tr>\n",
       "    <tr>\n",
       "      <th>4</th>\n",
       "      <td>32</td>\n",
       "      <td>220250000</td>\n",
       "      <td>Sporting CP</td>\n",
       "    </tr>\n",
       "    <tr>\n",
       "      <th>5</th>\n",
       "      <td>17</td>\n",
       "      <td>18275000</td>\n",
       "      <td>Maritimo Funchal</td>\n",
       "    </tr>\n",
       "    <tr>\n",
       "      <th>6</th>\n",
       "      <td>39</td>\n",
       "      <td>11575000</td>\n",
       "      <td>CD Tondela</td>\n",
       "    </tr>\n",
       "    <tr>\n",
       "      <th>7</th>\n",
       "      <td>23</td>\n",
       "      <td>180150000</td>\n",
       "      <td>SL Benfica</td>\n",
       "    </tr>\n",
       "    <tr>\n",
       "      <th>8</th>\n",
       "      <td>25</td>\n",
       "      <td>14025000</td>\n",
       "      <td>Boavista Porto FC</td>\n",
       "    </tr>\n",
       "    <tr>\n",
       "      <th>9</th>\n",
       "      <td>32</td>\n",
       "      <td>18025000</td>\n",
       "      <td>FC Arouca</td>\n",
       "    </tr>\n",
       "    <tr>\n",
       "      <th>10</th>\n",
       "      <td>23</td>\n",
       "      <td>21200000</td>\n",
       "      <td>Vitoria Setubal</td>\n",
       "    </tr>\n",
       "    <tr>\n",
       "      <th>11</th>\n",
       "      <td>21</td>\n",
       "      <td>23650000</td>\n",
       "      <td>C.F. Os Belenenses</td>\n",
       "    </tr>\n",
       "    <tr>\n",
       "      <th>12</th>\n",
       "      <td>25</td>\n",
       "      <td>32850000</td>\n",
       "      <td>Vitoria Guimaraes</td>\n",
       "    </tr>\n",
       "    <tr>\n",
       "      <th>13</th>\n",
       "      <td>20</td>\n",
       "      <td>63800000</td>\n",
       "      <td>Sporting Braga</td>\n",
       "    </tr>\n",
       "    <tr>\n",
       "      <th>14</th>\n",
       "      <td>29</td>\n",
       "      <td>12950000</td>\n",
       "      <td>GD Estoril Praia</td>\n",
       "    </tr>\n",
       "    <tr>\n",
       "      <th>15</th>\n",
       "      <td>35</td>\n",
       "      <td>12950000</td>\n",
       "      <td>Feirense</td>\n",
       "    </tr>\n",
       "    <tr>\n",
       "      <th>16</th>\n",
       "      <td>33</td>\n",
       "      <td>21925000</td>\n",
       "      <td>Nacional Funchal</td>\n",
       "    </tr>\n",
       "    <tr>\n",
       "      <th>17</th>\n",
       "      <td>22</td>\n",
       "      <td>21925000</td>\n",
       "      <td>G.D. Chaves</td>\n",
       "    </tr>\n",
       "  </tbody>\n",
       "</table>\n",
       "</div>"
      ],
      "text/plain": [
       "    loss  marketValue                  name\n",
       "0     29     21125000            FC Rio Ave\n",
       "1     17    204900000              FC Porto\n",
       "2     36      9950000         Moreirense FC\n",
       "3     35     17725000  FC Paços de Ferreira\n",
       "4     32    220250000           Sporting CP\n",
       "5     17     18275000      Maritimo Funchal\n",
       "6     39     11575000            CD Tondela\n",
       "7     23    180150000            SL Benfica\n",
       "8     25     14025000     Boavista Porto FC\n",
       "9     32     18025000             FC Arouca\n",
       "10    23     21200000       Vitoria Setubal\n",
       "11    21     23650000    C.F. Os Belenenses\n",
       "12    25     32850000     Vitoria Guimaraes\n",
       "13    20     63800000        Sporting Braga\n",
       "14    29     12950000      GD Estoril Praia\n",
       "15    35     12950000              Feirense\n",
       "16    33     21925000      Nacional Funchal\n",
       "17    22     21925000           G.D. Chaves"
      ]
     },
     "execution_count": 8,
     "metadata": {},
     "output_type": "execute_result"
    }
   ],
   "source": [
    "teams_pd = pd.DataFrame(team_for_pd)\n",
    "teams_pd"
   ]
  },
  {
   "cell_type": "code",
   "execution_count": 9,
   "metadata": {
    "collapsed": false
   },
   "outputs": [
    {
     "data": {
      "text/plain": [
       "<matplotlib.axes._subplots.AxesSubplot at 0x1c06887d978>"
      ]
     },
     "execution_count": 9,
     "metadata": {},
     "output_type": "execute_result"
    },
    {
     "data": {
      "image/png": "[encoded data removed]",
      "text/plain": [
       "<matplotlib.figure.Figure at 0x1c068853dd8>"
      ]
     },
     "metadata": {},
     "output_type": "display_data"
    }
   ],
   "source": [
    "teams_pd.plot.scatter(x='marketValue', y='loss')"
   ]
  },
  {
   "cell_type": "code",
   "execution_count": 10,
   "metadata": {
    "collapsed": false
   },
   "outputs": [
    {
     "data": {
      "text/html": [
       "<div>\n",
       "<table border=\"1\" class=\"dataframe\">\n",
       "  <thead>\n",
       "    <tr style=\"text-align: right;\">\n",
       "      <th></th>\n",
       "      <th>loss</th>\n",
       "      <th>marketValue</th>\n",
       "    </tr>\n",
       "  </thead>\n",
       "  <tbody>\n",
       "    <tr>\n",
       "      <th>0</th>\n",
       "      <td>29</td>\n",
       "      <td>21125000</td>\n",
       "    </tr>\n",
       "    <tr>\n",
       "      <th>1</th>\n",
       "      <td>17</td>\n",
       "      <td>204900000</td>\n",
       "    </tr>\n",
       "    <tr>\n",
       "      <th>2</th>\n",
       "      <td>36</td>\n",
       "      <td>9950000</td>\n",
       "    </tr>\n",
       "    <tr>\n",
       "      <th>3</th>\n",
       "      <td>35</td>\n",
       "      <td>17725000</td>\n",
       "    </tr>\n",
       "    <tr>\n",
       "      <th>4</th>\n",
       "      <td>32</td>\n",
       "      <td>220250000</td>\n",
       "    </tr>\n",
       "    <tr>\n",
       "      <th>5</th>\n",
       "      <td>17</td>\n",
       "      <td>18275000</td>\n",
       "    </tr>\n",
       "    <tr>\n",
       "      <th>6</th>\n",
       "      <td>39</td>\n",
       "      <td>11575000</td>\n",
       "    </tr>\n",
       "    <tr>\n",
       "      <th>7</th>\n",
       "      <td>23</td>\n",
       "      <td>180150000</td>\n",
       "    </tr>\n",
       "    <tr>\n",
       "      <th>8</th>\n",
       "      <td>25</td>\n",
       "      <td>14025000</td>\n",
       "    </tr>\n",
       "    <tr>\n",
       "      <th>9</th>\n",
       "      <td>32</td>\n",
       "      <td>18025000</td>\n",
       "    </tr>\n",
       "    <tr>\n",
       "      <th>10</th>\n",
       "      <td>23</td>\n",
       "      <td>21200000</td>\n",
       "    </tr>\n",
       "    <tr>\n",
       "      <th>11</th>\n",
       "      <td>21</td>\n",
       "      <td>23650000</td>\n",
       "    </tr>\n",
       "    <tr>\n",
       "      <th>12</th>\n",
       "      <td>25</td>\n",
       "      <td>32850000</td>\n",
       "    </tr>\n",
       "    <tr>\n",
       "      <th>13</th>\n",
       "      <td>20</td>\n",
       "      <td>63800000</td>\n",
       "    </tr>\n",
       "    <tr>\n",
       "      <th>14</th>\n",
       "      <td>29</td>\n",
       "      <td>12950000</td>\n",
       "    </tr>\n",
       "    <tr>\n",
       "      <th>15</th>\n",
       "      <td>35</td>\n",
       "      <td>12950000</td>\n",
       "    </tr>\n",
       "    <tr>\n",
       "      <th>16</th>\n",
       "      <td>33</td>\n",
       "      <td>21925000</td>\n",
       "    </tr>\n",
       "    <tr>\n",
       "      <th>17</th>\n",
       "      <td>22</td>\n",
       "      <td>21925000</td>\n",
       "    </tr>\n",
       "  </tbody>\n",
       "</table>\n",
       "</div>"
      ],
      "text/plain": [
       "    loss  marketValue\n",
       "0     29     21125000\n",
       "1     17    204900000\n",
       "2     36      9950000\n",
       "3     35     17725000\n",
       "4     32    220250000\n",
       "5     17     18275000\n",
       "6     39     11575000\n",
       "7     23    180150000\n",
       "8     25     14025000\n",
       "9     32     18025000\n",
       "10    23     21200000\n",
       "11    21     23650000\n",
       "12    25     32850000\n",
       "13    20     63800000\n",
       "14    29     12950000\n",
       "15    35     12950000\n",
       "16    33     21925000\n",
       "17    22     21925000"
      ]
     },
     "execution_count": 10,
     "metadata": {},
     "output_type": "execute_result"
    }
   ],
   "source": [
    "del teams_pd['name']\n",
    "teams_pd"
   ]
  },
  {
   "cell_type": "code",
   "execution_count": 11,
   "metadata": {
    "collapsed": false
   },
   "outputs": [
    {
     "data": {
      "text/plain": [
       "array([[ 4.36564125,  0.30834765],\n",
       "       [ 2.55916901,  2.99078971],\n",
       "       [ 5.41941672,  0.14523357],\n",
       "       [ 5.26887737,  0.2587201 ],\n",
       "       [ 4.81725931,  3.2148435 ],\n",
       "       [ 2.55916901,  0.26674808],\n",
       "       [ 5.87103479,  0.16895262],\n",
       "       [ 3.46240513,  2.62953034],\n",
       "       [ 3.76348384,  0.20471364],\n",
       "       [ 4.81725931,  0.263099  ],\n",
       "       [ 3.46240513,  0.30944237],\n",
       "       [ 3.16132642,  0.3452034 ],\n",
       "       [ 3.76348384,  0.47948971],\n",
       "       [ 3.01078707,  0.93124638],\n",
       "       [ 4.36564125,  0.18902258],\n",
       "       [ 5.26887737,  0.18902258],\n",
       "       [ 4.96779866,  0.32002472],\n",
       "       [ 3.31186578,  0.32002472]])"
      ]
     },
     "execution_count": 11,
     "metadata": {},
     "output_type": "execute_result"
    }
   ],
   "source": [
    "whitened = whiten(teams_pd.as_matrix())\n",
    "whitened"
   ]
  },
  {
   "cell_type": "code",
   "execution_count": 12,
   "metadata": {
    "collapsed": false
   },
   "outputs": [
    {
     "data": {
      "text/plain": [
       "(array([[ 5.04306834,  0.23030285],\n",
       "        [ 3.61294448,  2.94505452],\n",
       "        [ 3.29036015,  0.40812404]]),\n",
       " array([0, 1, 0, 0, 1, 2, 0, 1, 2, 0, 2, 2, 2, 2, 0, 0, 0, 2]))"
      ]
     },
     "execution_count": 12,
     "metadata": {},
     "output_type": "execute_result"
    }
   ],
   "source": [
    "centroids, cluster_map = kmeans2(whitened, 3)\n",
    "centroids, cluster_map"
   ]
  },
  {
   "cell_type": "code",
   "execution_count": 13,
   "metadata": {
    "collapsed": false
   },
   "outputs": [
    {
     "data": {
      "text/plain": [
       "['r',\n",
       " 'g',\n",
       " 'r',\n",
       " 'r',\n",
       " 'g',\n",
       " 'b',\n",
       " 'r',\n",
       " 'g',\n",
       " 'b',\n",
       " 'r',\n",
       " 'b',\n",
       " 'b',\n",
       " 'b',\n",
       " 'b',\n",
       " 'r',\n",
       " 'r',\n",
       " 'r',\n",
       " 'b']"
      ]
     },
     "execution_count": 13,
     "metadata": {},
     "output_type": "execute_result"
    }
   ],
   "source": [
    "colors_map = {0: 'r', 1: 'g', 2: 'b', 3: 'y', 4: 'm'}\n",
    "colors = [colors_map[c] for c in cluster_map]\n",
    "colors"
   ]
  },
  {
   "cell_type": "code",
   "execution_count": 15,
   "metadata": {
    "collapsed": false
   },
   "outputs": [
    {
     "data": {
      "text/plain": [
       "<matplotlib.axes._subplots.AxesSubplot at 0x1c068d2e898>"
      ]
     },
     "execution_count": 15,
     "metadata": {},
     "output_type": "execute_result"
    },
    {
     "data": {
      "image/png": "[encoded data removed]",
      "text/plain": [
       "<matplotlib.figure.Figure at 0x1c0692bba90>"
      ]
     },
     "metadata": {},
     "output_type": "display_data"
    }
   ],
   "source": [
    "teams_pd.plot.scatter(x='marketValue', y='loss', c=colors, s=100)"
   ]
  },
  {
   "cell_type": "code",
   "execution_count": 17,
   "metadata": {
    "collapsed": false
   },
   "outputs": [
    {
     "data": {
      "text/plain": [
       "(array([[ 5.87103479,  0.16895262],\n",
       "        [ 3.61294448,  2.94505452],\n",
       "        [ 4.06456254,  0.2953934 ],\n",
       "        [ 5.14844589,  0.23521999],\n",
       "        [ 3.10111068,  0.43453299]]),\n",
       " array([2, 1, 3, 3, 1, 4, 0, 1, 2, 3, 4, 4, 2, 4, 2, 3, 3, 4]))"
      ]
     },
     "execution_count": 17,
     "metadata": {},
     "output_type": "execute_result"
    }
   ],
   "source": [
    "centroids, cluster_map = kmeans2(whitened, 5)\n",
    "centroids, cluster_map"
   ]
  },
  {
   "cell_type": "code",
   "execution_count": 18,
   "metadata": {
    "collapsed": false
   },
   "outputs": [
    {
     "data": {
      "text/plain": [
       "['b',\n",
       " 'g',\n",
       " 'y',\n",
       " 'y',\n",
       " 'g',\n",
       " 'm',\n",
       " 'r',\n",
       " 'g',\n",
       " 'b',\n",
       " 'y',\n",
       " 'm',\n",
       " 'm',\n",
       " 'b',\n",
       " 'm',\n",
       " 'b',\n",
       " 'y',\n",
       " 'y',\n",
       " 'm']"
      ]
     },
     "execution_count": 18,
     "metadata": {},
     "output_type": "execute_result"
    }
   ],
   "source": [
    "colors_map = {0: 'r', 1: 'g', 2: 'b', 3: 'y', 4: 'm'}\n",
    "colors = [colors_map[c] for c in cluster_map]\n",
    "colors"
   ]
  },
  {
   "cell_type": "code",
   "execution_count": 20,
   "metadata": {
    "collapsed": false
   },
   "outputs": [
    {
     "data": {
      "text/plain": [
       "<matplotlib.axes._subplots.AxesSubplot at 0x1c069302470>"
      ]
     },
     "execution_count": 20,
     "metadata": {},
     "output_type": "execute_result"
    },
    {
     "data": {
      "image/png": "[encoded data removed]",
      "text/plain": [
       "<matplotlib.figure.Figure at 0x1c069383780>"
      ]
     },
     "metadata": {},
     "output_type": "display_data"
    }
   ],
   "source": [
    "teams_pd.plot.scatter(x='marketValue', y='loss', c=colors, s=100)"
   ]
  },
  {
   "cell_type": "code",
   "execution_count": null,
   "metadata": {
    "collapsed": true
   },
   "outputs": [],
   "source": []
  }
 ],
 "metadata": {
  "kernelspec": {
   "display_name": "Python 3",
   "language": "python",
   "name": "python3"
  },
  "language_info": {
   "codemirror_mode": {
    "name": "ipython",
    "version": 3
   },
   "file_extension": ".py",
   "mimetype": "text/x-python",
   "name": "python",
   "nbconvert_exporter": "python",
   "pygments_lexer": "ipython3",
   "version": "3.6.0"
  }
 },
 "nbformat": 4,
 "nbformat_minor": 2
}
